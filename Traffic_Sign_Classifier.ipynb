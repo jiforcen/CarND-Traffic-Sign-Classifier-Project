{
 "cells": [
  {
   "cell_type": "markdown",
   "metadata": {},
   "source": [
    "# Self-Driving Car Engineer Nanodegree\n",
    "\n",
    "## Deep Learning\n",
    "\n",
    "## Project: Build a Traffic Sign Recognition Classifier\n",
    "\n",
    "In this notebook, a template is provided for you to implement your functionality in stages, which is required to successfully complete this project. If additional code is required that cannot be included in the notebook, be sure that the Python code is successfully imported and included in your submission if necessary. \n",
    "\n",
    "> **Note**: Once you have completed all of the code implementations, you need to finalize your work by exporting the iPython Notebook as an HTML document. Before exporting the notebook to html, all of the code cells need to have been run so that reviewers can see the final implementation and output. You can then export the notebook by using the menu above and navigating to  \\n\",\n",
    "    \"**File -> Download as -> HTML (.html)**. Include the finished document along with this notebook as your submission. \n",
    "\n",
    "In addition to implementing code, there is a writeup to complete. The writeup should be completed in a separate file, which can be either a markdown file or a pdf document. There is a [write up template](https://github.com/udacity/CarND-Traffic-Sign-Classifier-Project/blob/master/writeup_template.md) that can be used to guide the writing process. Completing the code template and writeup template will cover all of the [rubric points](https://review.udacity.com/#!/rubrics/481/view) for this project.\n",
    "\n",
    "The [rubric](https://review.udacity.com/#!/rubrics/481/view) contains \"Stand Out Suggestions\" for enhancing the project beyond the minimum requirements. The stand out suggestions are optional. If you decide to pursue the \"stand out suggestions\", you can include the code in this Ipython notebook and also discuss the results in the writeup file.\n",
    "\n",
    "\n",
    ">**Note:** Code and Markdown cells can be executed using the **Shift + Enter** keyboard shortcut. In addition, Markdown cells can be edited by typically double-clicking the cell to enter edit mode."
   ]
  },
  {
   "cell_type": "markdown",
   "metadata": {},
   "source": [
    "---\n",
    "## Step 0: Load The Data"
   ]
  },
  {
   "cell_type": "code",
   "execution_count": 1,
   "metadata": {
    "collapsed": false
   },
   "outputs": [],
   "source": [
    "# Load pickled data\n",
    "import pickle\n",
    "\n",
    "# TODO: Fill this in based on where you saved the training and testing data\n",
    "\n",
    "training_file = \"traffic-signs-data/train.p\"\n",
    "validation_file= \"traffic-signs-data/valid.p\"\n",
    "testing_file = \"traffic-signs-data/test.p\"\n",
    "\n",
    "#training_file = \"traffic-signs-data/train2.p\" #500\n",
    "#training_file = \"traffic-signs-data/train3.p\" #1250\n",
    "#training_file = \"traffic-signs-data/train4.p\" #1250\n",
    "\n",
    "with open(training_file, mode='rb') as f:\n",
    "    train = pickle.load(f)\n",
    "with open(validation_file, mode='rb') as f:\n",
    "    valid = pickle.load(f)\n",
    "with open(testing_file, mode='rb') as f:\n",
    "    test = pickle.load(f)\n",
    "    \n",
    "X_train, y_train = train['features'], train['labels']\n",
    "X_valid, y_valid = valid['features'], valid['labels']\n",
    "X_test, y_test = test['features'], test['labels']\n",
    "\n",
    "#X_sizes, X_coords = train['sizes'], train['coords']\n"
   ]
  },
  {
   "cell_type": "markdown",
   "metadata": {},
   "source": [
    "---\n",
    "\n",
    "## Step 1: Dataset Summary & Exploration\n",
    "\n",
    "The pickled data is a dictionary with 4 key/value pairs:\n",
    "\n",
    "- `'features'` is a 4D array containing raw pixel data of the traffic sign images, (num examples, width, height, channels).\n",
    "- `'labels'` is a 1D array containing the label/class id of the traffic sign. The file `signnames.csv` contains id -> name mappings for each id.\n",
    "- `'sizes'` is a list containing tuples, (width, height) representing the the original width and height the image.\n",
    "- `'coords'` is a list containing tuples, (x1, y1, x2, y2) representing coordinates of a bounding box around the sign in the image. **THESE COORDINATES ASSUME THE ORIGINAL IMAGE. THE PICKLED DATA CONTAINS RESIZED VERSIONS (32 by 32) OF THESE IMAGES**\n",
    "\n",
    "Complete the basic data summary below. Use python, numpy and/or pandas methods to calculate the data summary rather than hard coding the results. For example, the [pandas shape method](http://pandas.pydata.org/pandas-docs/stable/generated/pandas.DataFrame.shape.html) might be useful for calculating some of the summary results. "
   ]
  },
  {
   "cell_type": "markdown",
   "metadata": {},
   "source": [
    "### Provide a Basic Summary of the Data Set Using Python, Numpy and/or Pandas"
   ]
  },
  {
   "cell_type": "markdown",
   "metadata": {},
   "source": [
    "### Include an exploratory visualization of the dataset"
   ]
  },
  {
   "cell_type": "markdown",
   "metadata": {},
   "source": [
    "Visualize the German Traffic Signs Dataset using the pickled file(s). This is open ended, suggestions include: plotting traffic sign images, plotting the count of each sign, etc.\n",
    "\n",
    "The [Matplotlib](http://matplotlib.org/) [examples](http://matplotlib.org/examples/index.html) and [gallery](http://matplotlib.org/gallery.html) pages are a great resource for doing visualizations in Python.\n",
    "\n",
    "**NOTE:** It's recommended you start with something simple first. If you wish to do more, come back to it after you've completed the rest of the sections."
   ]
  },
  {
   "cell_type": "code",
   "execution_count": 2,
   "metadata": {
    "collapsed": false,
    "scrolled": true
   },
   "outputs": [
    {
     "name": "stdout",
     "output_type": "stream",
     "text": [
      "Random image = 33\n"
     ]
    },
    {
     "data": {
      "image/png": "[encoded data removed]",
      "text/plain": [
       "<matplotlib.figure.Figure at 0x7f1e645b5d30>"
      ]
     },
     "metadata": {},
     "output_type": "display_data"
    }
   ],
   "source": [
    "### Data exploration visualization code goes here.\n",
    "### Feel free to use as many code cells as needed.\n",
    "import random\n",
    "import numpy as np\n",
    "import matplotlib.pyplot as plt\n",
    "# Visualizations will be shown in the notebook.\n",
    "%matplotlib inline\n",
    "\n",
    "index = random.randint(0,len(X_train))\n",
    "image = X_train[index].squeeze()\n",
    "\n",
    "plt.figure(figsize=(1,1))\n",
    "plt.imshow(image)\n",
    "\n",
    "print(\"Random image =\", y_train[index])"
   ]
  },
  {
   "cell_type": "code",
   "execution_count": 3,
   "metadata": {
    "collapsed": false
   },
   "outputs": [
    {
     "name": "stdout",
     "output_type": "stream",
     "text": [
      "Number of training examples = 34799\n",
      "Number of testing examples = 12630\n",
      "Image data shape = [32, 32]\n",
      "Number of classes = 43\n"
     ]
    }
   ],
   "source": [
    "### Replace each question mark with the appropriate value. \n",
    "### Use python, pandas or numpy methods rather than hard coding the results\n",
    "\n",
    "# Import numpy\n",
    "import numpy as np\n",
    "\n",
    "# TODO: Number of training examples\n",
    "n_train = X_train.shape[0]\n",
    "\n",
    "# TODO: Number of testing examples.\n",
    "n_test = X_test.shape[0]\n",
    "\n",
    "# TODO: What's the shape of an traffic sign image?\n",
    "image_shape = [X_train.shape[1], X_train.shape[2]]\n",
    "\n",
    "# TODO: How many unique classes/labels there are in the dataset.\n",
    "n_classes = np.unique(y_test).shape[0]\n",
    "\n",
    "print(\"Number of training examples =\", n_train)\n",
    "print(\"Number of testing examples =\", n_test)\n",
    "print(\"Image data shape =\", image_shape)\n",
    "print(\"Number of classes =\", n_classes)"
   ]
  },
  {
   "cell_type": "code",
   "execution_count": 4,
   "metadata": {
    "collapsed": false
   },
   "outputs": [
    {
     "data": {
      "text/plain": [
       "(array([  180.,  1980.,  2010.,  1260.,  1770.,  1650.,   360.,  1290.,\n",
       "         1260.,  1320.,  1800.,  1170.,  1890.,  1920.,   690.,   540.,\n",
       "          360.,   990.,  1080.,   180.,   300.,   270.,   330.,   450.,\n",
       "          240.,  1350.,   540.,   210.,   480.,   240.,   390.,   690.,\n",
       "          210.,   599.,   360.,  1080.,   330.,   180.,  1860.,   270.,\n",
       "          300.,   210.,   210.]),\n",
       " array([  0.        ,   0.97674419,   1.95348837,   2.93023256,\n",
       "          3.90697674,   4.88372093,   5.86046512,   6.8372093 ,\n",
       "          7.81395349,   8.79069767,   9.76744186,  10.74418605,\n",
       "         11.72093023,  12.69767442,  13.6744186 ,  14.65116279,\n",
       "         15.62790698,  16.60465116,  17.58139535,  18.55813953,\n",
       "         19.53488372,  20.51162791,  21.48837209,  22.46511628,\n",
       "         23.44186047,  24.41860465,  25.39534884,  26.37209302,\n",
       "         27.34883721,  28.3255814 ,  29.30232558,  30.27906977,\n",
       "         31.25581395,  32.23255814,  33.20930233,  34.18604651,\n",
       "         35.1627907 ,  36.13953488,  37.11627907,  38.09302326,\n",
       "         39.06976744,  40.04651163,  41.02325581,  42.        ]),\n",
       " <a list of 43 Patch objects>)"
      ]
     },
     "execution_count": 4,
     "metadata": {},
     "output_type": "execute_result"
    },
    {
     "data": {
      "image/png": "[encoded data removed]",
      "text/plain": [
       "<matplotlib.figure.Figure at 0x7f1e31646e10>"
      ]
     },
     "metadata": {},
     "output_type": "display_data"
    }
   ],
   "source": [
    "plt.figure(figsize=(10,5))\n",
    "plt.hist(y_train, bins = n_classes)"
   ]
  },
  {
   "cell_type": "markdown",
   "metadata": {},
   "source": [
    "----\n",
    "\n",
    "## Step 2: Design and Test a Model Architecture\n",
    "\n",
    "Design and implement a deep learning model that learns to recognize traffic signs. Train and test your model on the [German Traffic Sign Dataset](http://benchmark.ini.rub.de/?section=gtsrb&subsection=dataset).\n",
    "\n",
    "There are various aspects to consider when thinking about this problem:\n",
    "\n",
    "- Neural network architecture\n",
    "- Play around preprocessing techniques (normalization, rgb to grayscale, etc)\n",
    "- Number of examples per label (some have more than others).\n",
    "- Generate fake data.\n",
    "\n",
    "Here is an example of a [published baseline model on this problem](http://yann.lecun.com/exdb/publis/pdf/sermanet-ijcnn-11.pdf). It's not required to be familiar with the approach used in the paper but, it's good practice to try to read papers like these.\n",
    "\n",
    "**NOTE:** The LeNet-5 implementation shown in the [classroom](https://classroom.udacity.com/nanodegrees/nd013/parts/fbf77062-5703-404e-b60c-95b78b2f3f9e/modules/6df7ae49-c61c-4bb2-a23e-6527e69209ec/lessons/601ae704-1035-4287-8b11-e2c2716217ad/concepts/d4aca031-508f-4e0b-b493-e7b706120f81) at the end of the CNN lesson is a solid starting point. You'll have to change the number of classes and possibly the preprocessing, but aside from that it's plug and play!"
   ]
  },
  {
   "cell_type": "markdown",
   "metadata": {},
   "source": [
    "### Pre-process the Data Set (normalization, grayscale, etc.)"
   ]
  },
  {
   "cell_type": "markdown",
   "metadata": {},
   "source": [
    "Use the code cell (or multiple code cells, if necessary) to implement the first step of your project."
   ]
  },
  {
   "cell_type": "code",
   "execution_count": 5,
   "metadata": {
    "collapsed": false,
    "scrolled": true
   },
   "outputs": [],
   "source": [
    "### Preprocess the data here. Preprocessing steps could include normalization, converting to grayscale, etc.\n",
    "### Feel free to use as many code cells as needed.\n",
    "\n",
    "\n",
    "\n",
    "\n",
    "    \n"
   ]
  },
  {
   "cell_type": "code",
   "execution_count": 6,
   "metadata": {
    "collapsed": false
   },
   "outputs": [],
   "source": [
    "import cv2\n",
    "\n",
    "def geo_transformation(img,ang_range,affine_range,trans_range):\n",
    "    #http://docs.opencv.org/3.0-beta/doc/py_tutorials/py_imgproc/py_geometric_transformations/py_geometric_transformations.html\n",
    "    rows,cols,ch = img.shape    \n",
    "\n",
    "    # Rotation\n",
    "    ang_rot = np.random.uniform(ang_range)-ang_range/2\n",
    "    M = cv2.getRotationMatrix2D((cols/2,rows/2),ang_rot,1) \n",
    "    img = cv2.warpAffine(img,M,(cols,rows))\n",
    "\n",
    "    # Translation\n",
    "    tr_x = trans_range*np.random.uniform()-trans_range/2\n",
    "    tr_y = trans_range*np.random.uniform()-trans_range/2\n",
    "    M = np.float32([[1,0,tr_x],[0,1,tr_y]]) \n",
    "    img = cv2.warpAffine(img,M,(cols,rows))\n",
    "\n",
    "    # Affine\n",
    "    pts1 = np.float32([[10,10],[22,10],[10,22]])\n",
    "    pt1 = 10+affine_range*np.random.uniform()-affine_range/2\n",
    "    pt2 = 22+affine_range*np.random.uniform()-affine_range/2\n",
    "    pts2 = np.float32([[pt1,10],[pt2,pt1],[10,pt2]])\n",
    "    M = cv2.getAffineTransform(pts1,pts2)\n",
    "    img = cv2.warpAffine(img,M,(cols,rows))\n",
    "\n",
    "    return img"
   ]
  },
  {
   "cell_type": "code",
   "execution_count": null,
   "metadata": {
    "collapsed": true
   },
   "outputs": [],
   "source": []
  },
  {
   "cell_type": "code",
   "execution_count": 7,
   "metadata": {
    "collapsed": false
   },
   "outputs": [
    {
     "data": {
      "image/png": "[encoded data removed]",
      "text/plain": [
       "<matplotlib.figure.Figure at 0x7f1e31553978>"
      ]
     },
     "metadata": {},
     "output_type": "display_data"
    },
    {
     "data": {
      "image/png": "[encoded data removed]",
      "text/plain": [
       "<matplotlib.figure.Figure at 0x7f1e314f2668>"
      ]
     },
     "metadata": {},
     "output_type": "display_data"
    },
    {
     "data": {
      "image/png": "[encoded data removed]",
      "text/plain": [
       "<matplotlib.figure.Figure at 0x7f1e31401c50>"
      ]
     },
     "metadata": {},
     "output_type": "display_data"
    }
   ],
   "source": [
    "\n",
    "%matplotlib inline\n",
    "\n",
    "index = random.randint(0,len(X_train))\n",
    "\n",
    "image = X_train[index].squeeze()\n",
    "\n",
    "plt.figure(figsize=(1,1))\n",
    "plt.imshow(image)\n",
    "    \n",
    "#img = geo_transformation(image,6,3,0)\n",
    "img = geo_transformation(image,20,5,5)\n",
    "\n",
    "plt.figure(figsize=(5,5))\n",
    "plt.imshow(img)\n",
    "\n",
    "image = cv2.cvtColor(image,cv2.COLOR_RGB2YUV)\n",
    "image[:,:,0] = cv2.equalizeHist(image[:,:,0])\n",
    "image = cv2.cvtColor(image,cv2.COLOR_YUV2RGB)\n",
    "\n",
    "plt.figure(figsize=(5,5))\n",
    "plt.imshow(image)  \n",
    "\n",
    "plt.show()"
   ]
  },
  {
   "cell_type": "code",
   "execution_count": 8,
   "metadata": {
    "collapsed": false
   },
   "outputs": [],
   "source": [
    "def number_completed(count_images,min_nImages):\n",
    "    completed = True\n",
    "    for i in range(len(count_images)):\n",
    "        if (count_images[i] < min_nImages):\n",
    "            completed = False\n",
    "            break\n",
    "    return completed"
   ]
  },
  {
   "cell_type": "code",
   "execution_count": null,
   "metadata": {
    "collapsed": true
   },
   "outputs": [],
   "source": [
    "\n",
    "\n",
    "    "
   ]
  },
  {
   "cell_type": "code",
   "execution_count": 9,
   "metadata": {
    "collapsed": false
   },
   "outputs": [
    {
     "name": "stdout",
     "output_type": "stream",
     "text": [
      "Number of training examples = 58860\n"
     ]
    }
   ],
   "source": [
    "import cv2\n",
    "if False: ## Put True for augmentate data, False for read from file\n",
    "    \n",
    "    for i in range(X_train.shape[0]):\n",
    "        X_train[i,:,:,:] = cv2.cvtColor(X_train[i,:,:,:],cv2.COLOR_RGB2YUV)\n",
    "        X_train[i,:,:,0] = cv2.equalizeHist(X_train[i,:,:,0])\n",
    "    \n",
    "    for i in range(X_valid.shape[0]):\n",
    "        X_valid[i,:,:,:] = cv2.cvtColor(X_valid[i,:,:,:],cv2.COLOR_RGB2YUV)\n",
    "        X_valid[i,:,:,0] = cv2.equalizeHist(X_valid[i,:,:,0])\n",
    "\n",
    "    for i in range(X_test.shape[0]):\n",
    "        X_test[i,:,:,:] = cv2.cvtColor(X_test[i,:,:,:],cv2.COLOR_RGB2YUV)\n",
    "        X_test[i,:,:,0] = cv2.equalizeHist(X_test[i,:,:,0])\n",
    "    \n",
    "    print(\"Augmentation...\")\n",
    "\n",
    "    X_train_New = np.array(X_train, copy=True) \n",
    "    y_train_New = np.array(y_train, copy=True)  \n",
    "\n",
    "    # Number of images per class\n",
    "    count_images = []\n",
    "    min_nImages = 1250;\n",
    "\n",
    "    for i in range(n_classes):\n",
    "        count_images.append(y_train[y_train == i].shape[0])\n",
    "\n",
    "    print (count_images)\n",
    "    print (len(count_images))\n",
    "\n",
    "    i = 0;\n",
    "    while (not(number_completed(count_images,min_nImages))):\n",
    "        if count_images[y_train[i]] < min_nImages:\n",
    "            count_images[y_train[i]] = count_images[y_train[i]] + 1;   \n",
    "            X_train_New = np.append(X_train_New, [geo_transformation(X_train[i,:,:,:],12,3,3)], axis = 0)\n",
    "            y_train_New = np.append(y_train_New, [y_train[i]], axis = 0)\n",
    "\n",
    "        i = i + 1   \n",
    "        if i == y_train.shape[0]:\n",
    "            i = i - y_train.shape[0]\n",
    "    print (count_images)   \n",
    "\n",
    "    X_train = X_train_New\n",
    "    y_train = y_train_New\n",
    "\n",
    "    print(\"Saving data...\")\n",
    "\n",
    "    training_file = \"traffic-signs-data/train4.p\"\n",
    "    mydict = {'features': X_train, 'labels': y_train}\n",
    "    output = open(training_file, 'wb')\n",
    "    pickle.dump(mydict, output)\n",
    "    output.close()\n",
    "\n",
    "    print(\"Data Augmented...\")\n",
    "    \n",
    "else: \n",
    "    \n",
    "    for i in range(X_valid.shape[0]):\n",
    "        X_valid[i,:,:,:] = cv2.cvtColor(X_valid[i,:,:,:],cv2.COLOR_RGB2YUV)\n",
    "        X_valid[i,:,:,0] = cv2.equalizeHist(X_valid[i,:,:,0])\n",
    "\n",
    "    for i in range(X_test.shape[0]):\n",
    "        X_test[i,:,:,:] = cv2.cvtColor(X_test[i,:,:,:],cv2.COLOR_RGB2YUV)\n",
    "        X_test[i,:,:,0] = cv2.equalizeHist(X_test[i,:,:,0])\n",
    "\n",
    "    training_file = \"traffic-signs-data/train4.p\" #1250\n",
    "\n",
    "    with open(training_file, mode='rb') as f:\n",
    "        train = pickle.load(f)\n",
    "\n",
    "    X_train, y_train = train['features'], train['labels']\n",
    "\n",
    "    n_train = X_train.shape[0]\n",
    "\n",
    "    print(\"Number of training examples =\", n_train)\n"
   ]
  },
  {
   "cell_type": "code",
   "execution_count": null,
   "metadata": {
    "collapsed": true
   },
   "outputs": [],
   "source": []
  },
  {
   "cell_type": "code",
   "execution_count": 10,
   "metadata": {
    "collapsed": false
   },
   "outputs": [
    {
     "data": {
      "text/plain": [
       "(array([ 1250.,  1980.,  2010.,  1260.,  1770.,  1650.,  1250.,  1290.,\n",
       "         1260.,  1320.,  1800.,  1250.,  1890.,  1920.,  1250.,  1250.,\n",
       "         1250.,  1250.,  1250.,  1250.,  1250.,  1250.,  1250.,  1250.,\n",
       "         1250.,  1350.,  1250.,  1250.,  1250.,  1250.,  1250.,  1250.,\n",
       "         1250.,  1250.,  1250.,  1250.,  1250.,  1250.,  1860.,  1250.,\n",
       "         1250.,  1250.,  1250.]),\n",
       " array([  0.        ,   0.97674419,   1.95348837,   2.93023256,\n",
       "          3.90697674,   4.88372093,   5.86046512,   6.8372093 ,\n",
       "          7.81395349,   8.79069767,   9.76744186,  10.74418605,\n",
       "         11.72093023,  12.69767442,  13.6744186 ,  14.65116279,\n",
       "         15.62790698,  16.60465116,  17.58139535,  18.55813953,\n",
       "         19.53488372,  20.51162791,  21.48837209,  22.46511628,\n",
       "         23.44186047,  24.41860465,  25.39534884,  26.37209302,\n",
       "         27.34883721,  28.3255814 ,  29.30232558,  30.27906977,\n",
       "         31.25581395,  32.23255814,  33.20930233,  34.18604651,\n",
       "         35.1627907 ,  36.13953488,  37.11627907,  38.09302326,\n",
       "         39.06976744,  40.04651163,  41.02325581,  42.        ]),\n",
       " <a list of 43 Patch objects>)"
      ]
     },
     "execution_count": 10,
     "metadata": {},
     "output_type": "execute_result"
    },
    {
     "data": {
      "image/png": "[encoded data removed]",
      "text/plain": [
       "<matplotlib.figure.Figure at 0x7f1e31378400>"
      ]
     },
     "metadata": {},
     "output_type": "display_data"
    }
   ],
   "source": [
    "%matplotlib inline\n",
    "plt.figure(figsize=(10,5))\n",
    "\n",
    "\n",
    "plt.hist(y_train, bins = n_classes)"
   ]
  },
  {
   "cell_type": "code",
   "execution_count": null,
   "metadata": {
    "collapsed": true
   },
   "outputs": [],
   "source": []
  },
  {
   "cell_type": "code",
   "execution_count": null,
   "metadata": {
    "collapsed": true
   },
   "outputs": [],
   "source": []
  },
  {
   "cell_type": "code",
   "execution_count": 11,
   "metadata": {
    "collapsed": true
   },
   "outputs": [],
   "source": [
    "from sklearn.utils import shuffle\n",
    "\n",
    "X_train, y_train = shuffle(X_train, y_train)\n",
    "\n",
    "# Normalize\n",
    "X_train = (X_train-127.5)/127.5\n",
    "X_valid = (X_valid-127.5)/127.5\n",
    "X_test = (X_test-127.5)/127.5"
   ]
  },
  {
   "cell_type": "code",
   "execution_count": 12,
   "metadata": {
    "collapsed": false
   },
   "outputs": [
    {
     "name": "stdout",
     "output_type": "stream",
     "text": [
      "Number of training examples = (58860, 32, 32, 3)\n",
      "Number of training examples = (4410, 32, 32, 3)\n",
      "Number of training examples = (12630, 32, 32, 3)\n"
     ]
    }
   ],
   "source": [
    "print(\"Number of training examples =\", X_train.shape)\n",
    "print(\"Number of training examples =\", X_valid.shape)\n",
    "print(\"Number of training examples =\", X_test.shape)"
   ]
  },
  {
   "cell_type": "markdown",
   "metadata": {},
   "source": [
    "### Model Architecture"
   ]
  },
  {
   "cell_type": "code",
   "execution_count": 13,
   "metadata": {
    "collapsed": true
   },
   "outputs": [],
   "source": [
    "### Define your architecture here.\n",
    "### Feel free to use as many code cells as needed.\n",
    "\n",
    "import tensorflow as tf\n",
    "\n",
    "EPOCHS = 5 #15  #10\n",
    "BATCH_SIZE = 100 #300"
   ]
  },
  {
   "cell_type": "code",
   "execution_count": 14,
   "metadata": {
    "collapsed": true
   },
   "outputs": [],
   "source": [
    "## Implementation\n",
    "\n",
    "from tensorflow.contrib.layers import flatten\n",
    "\n",
    "def LeNet(x):    \n",
    "    # Hyperparameters\n",
    "    mu = 0\n",
    "    sigma = 0.05  \n",
    "    \n",
    "    # CONVOLUTION_1: Layer 1: Convolutional. Input = 32x32x3. Output = 28x28x16.\n",
    "    conv1_W = tf.Variable(tf.truncated_normal(shape=(3, 3, 3, 32), mean = mu, stddev = sigma))\n",
    "    conv1_b = tf.Variable(tf.zeros(32))\n",
    "    conv1   = tf.nn.conv2d(x, conv1_W, strides=[1, 1, 1, 1], padding='VALID') + conv1_b\n",
    "    \n",
    "    # CONVOLUTION_11: Layer 1: Convolutional. Input = 32x32x3. Output = 28x28x16.\n",
    "    conv11_W = tf.Variable(tf.truncated_normal(shape=(3, 3, 32, 32), mean = mu, stddev = sigma))\n",
    "    conv11_b = tf.Variable(tf.zeros(32))\n",
    "    conv1   = tf.nn.conv2d(conv1, conv11_W, strides=[1, 1, 1, 1], padding='VALID') + conv11_b\n",
    "\n",
    "    # RELU_1: Activation.\n",
    "    conv1 = tf.nn.relu(conv1)\n",
    "    conv1 = tf.nn.dropout(conv1,keep_prob)\n",
    "\n",
    "    # SUBSAMPLING_1: Pooling. Input = 28x28x32. Output = 14x14x32.\n",
    "    conv1 = tf.nn.max_pool(conv1, ksize=[1, 2, 2, 1], strides=[1, 2, 2, 1], padding='VALID')\n",
    "\n",
    "    # CONVOLUTION_2: Layer 2: Convolutional. Input = 14x14x16. Output = 10x10x32.\n",
    "    conv2_W = tf.Variable(tf.truncated_normal(shape=(3, 3, 32, 64), mean = mu, stddev = sigma))\n",
    "    conv2_b = tf.Variable(tf.zeros(64))\n",
    "    conv2   = tf.nn.conv2d(conv1, conv2_W, strides=[1, 1, 1, 1], padding='VALID') + conv2_b\n",
    "\n",
    "    # CONVOLUTION_22: Layer 2: Convolutional. Input = 14x14x16. Output = 10x10x32.\n",
    "    conv22_W = tf.Variable(tf.truncated_normal(shape=(3, 3, 64, 64), mean = mu, stddev = sigma))\n",
    "    conv22_b = tf.Variable(tf.zeros(64))\n",
    "    conv2   = tf.nn.conv2d(conv2, conv22_W, strides=[1, 1, 1, 1], padding='VALID') + conv22_b\n",
    "    \n",
    "    # RELU_2: Activation.\n",
    "    conv2 = tf.nn.relu(conv2)\n",
    "    conv2 = tf.nn.dropout(conv2, keep_prob)\n",
    "    \n",
    "    # CONVOLUTION_3: Layer 3: Convolutional. Input = 10x10x32. Output = 6x6x64.\n",
    "    conv3_W = tf.Variable(tf.truncated_normal(shape=(3, 3, 64, 128), mean = mu, stddev = sigma))\n",
    "    conv3_b = tf.Variable(tf.zeros(128))\n",
    "    conv3   = tf.nn.conv2d(conv2, conv3_W, strides=[1, 1, 1, 1], padding='VALID') + conv3_b\n",
    "    \n",
    "    # CONVOLUTION_3: Layer 3: Convolutional. Input = 10x10x32. Output = 6x6x64.\n",
    "    conv33_W = tf.Variable(tf.truncated_normal(shape=(3, 3, 128, 128), mean = mu, stddev = sigma))\n",
    "    conv33_b = tf.Variable(tf.zeros(128))\n",
    "    conv3   = tf.nn.conv2d(conv3, conv33_W, strides=[1, 1, 1, 1], padding='VALID') + conv33_b\n",
    "    \n",
    "    # RELU_3: Activation.\n",
    "    conv3 = tf.nn.relu(conv3)\n",
    "    conv3 = tf.nn.dropout(conv3, keep_prob)\n",
    "    \n",
    "    # SUBSAMPLING_2: Pooling. Input = 6x6x64. Output = 3x3x64.\n",
    "    conv3 = tf.nn.max_pool(conv3, ksize=[1, 2, 2, 1], strides=[1, 2, 2, 1], padding='VALID')\n",
    "\n",
    "    # FLATTEN_3: Input = 3x3x64. Output = 576.\n",
    "    fconv3   = flatten(conv3)\n",
    "    \n",
    "    # CONCAT: Output = 1376.    \n",
    "    #fc0 = tf.concat(1, [fconv2, fconv3])\n",
    "    fc0 = fconv3\n",
    "\n",
    "    # SOLUTION: Layer 3: Fully Connected. Input = 800. Output = 120.\n",
    "    fc1_W = tf.Variable(tf.truncated_normal(shape=(1152, 400), mean = mu, stddev = sigma))\n",
    "    fc1_b = tf.Variable(tf.zeros(400))\n",
    "    fc1   = tf.matmul(fc0, fc1_W) + fc1_b\n",
    "\n",
    "    # SOLUTION: Activation.\n",
    "    fc1    = tf.nn.relu(fc1)\n",
    "    fc1 = tf.nn.dropout(fc1, keep_prob)\n",
    "\n",
    "    # SOLUTION: Layer 4: Fully Connected. Input = 120. Output = 84.\n",
    "    fc2_W  = tf.Variable(tf.truncated_normal(shape=(400, 84), mean = mu, stddev = sigma))\n",
    "    fc2_b  = tf.Variable(tf.zeros(84))\n",
    "    fc2    = tf.matmul(fc1, fc2_W) + fc2_b\n",
    "\n",
    "    # SOLUTION: Activation.\n",
    "    fc2    = tf.nn.relu(fc2)\n",
    "    fc2 = tf.nn.dropout(fc2, keep_prob)\n",
    "    \n",
    "    # SOLUTION: Layer 5: Fully Connected. Input = 84. Output = n_classes. \n",
    "    fc3_W  = tf.Variable(tf.truncated_normal(shape=(84, n_classes), mean = mu, stddev = sigma))\n",
    "    fc3_b  = tf.Variable(tf.zeros(n_classes))\n",
    "    logits = tf.matmul(fc2, fc3_W) + fc3_b\n",
    "    \n",
    "    return logits"
   ]
  },
  {
   "cell_type": "code",
   "execution_count": 15,
   "metadata": {
    "collapsed": false
   },
   "outputs": [],
   "source": [
    "x = tf.placeholder(tf.float32, (None, 32, 32, 3))\n",
    "y = tf.placeholder(tf.int32, (None))\n",
    "keep_prob = tf.placeholder(tf.float32)\n",
    "one_hot_y = tf.one_hot(y, n_classes)"
   ]
  },
  {
   "cell_type": "code",
   "execution_count": 16,
   "metadata": {
    "collapsed": false
   },
   "outputs": [],
   "source": [
    "logits = LeNet(x)\n",
    "rate = 0.00005\n",
    "cross_entropy = tf.nn.softmax_cross_entropy_with_logits(logits, one_hot_y)\n",
    "loss_operation = tf.reduce_mean(cross_entropy)\n",
    "optimizer = tf.train.AdamOptimizer(learning_rate = rate)\n",
    "training_operation = optimizer.minimize(loss_operation)"
   ]
  },
  {
   "cell_type": "code",
   "execution_count": 17,
   "metadata": {
    "collapsed": false
   },
   "outputs": [],
   "source": [
    "correct_prediction = tf.equal(tf.argmax(logits, 1), tf.argmax(one_hot_y, 1))\n",
    "accuracy_operation = tf.reduce_mean(tf.cast(correct_prediction, tf.float32))\n",
    "saver = tf.train.Saver()\n",
    "\n",
    "def evaluate(X_data, y_data):\n",
    "    num_examples = len(X_data)\n",
    "    total_accuracy = 0\n",
    "    sess = tf.get_default_session()\n",
    "    for offset in range(0, num_examples, BATCH_SIZE):\n",
    "        batch_x, batch_y = X_data[offset:offset+BATCH_SIZE], y_data[offset:offset+BATCH_SIZE]\n",
    "        accuracy = sess.run(accuracy_operation, feed_dict={x: batch_x, y: batch_y,keep_prob: 1})\n",
    "        total_accuracy += (accuracy * len(batch_x))\n",
    "    return total_accuracy / num_examples"
   ]
  },
  {
   "cell_type": "code",
   "execution_count": null,
   "metadata": {
    "collapsed": false
   },
   "outputs": [],
   "source": []
  },
  {
   "cell_type": "markdown",
   "metadata": {},
   "source": [
    "### Train, Validate and Test the Model"
   ]
  },
  {
   "cell_type": "markdown",
   "metadata": {},
   "source": [
    "A validation set can be used to assess how well the model is performing. A low accuracy on the training and validation\n",
    "sets imply underfitting. A high accuracy on the test set but low accuracy on the validation set implies overfitting."
   ]
  },
  {
   "cell_type": "code",
   "execution_count": 33,
   "metadata": {
    "collapsed": false
   },
   "outputs": [
    {
     "name": "stdout",
     "output_type": "stream",
     "text": [
      "Training...\n",
      "\n",
      "0\n",
      "EPOCH 1 ...\n",
      "Train Accuracy = 0.999\n",
      "Validation Accuracy = 0.986\n",
      "5e-05\n",
      "\n",
      "1\n",
      "EPOCH 2 ...\n",
      "Train Accuracy = 0.999\n",
      "Validation Accuracy = 0.986\n",
      "5e-05\n",
      "\n",
      "2\n",
      "EPOCH 3 ...\n",
      "Train Accuracy = 0.999\n",
      "Validation Accuracy = 0.986\n",
      "5e-05\n",
      "\n",
      "3\n",
      "EPOCH 4 ...\n",
      "Train Accuracy = 0.999\n",
      "Validation Accuracy = 0.986\n",
      "5e-05\n",
      "\n",
      "4\n",
      "EPOCH 5 ...\n",
      "Train Accuracy = 0.999\n",
      "Validation Accuracy = 0.986\n",
      "5e-05\n",
      "\n",
      "Model saved\n"
     ]
    }
   ],
   "source": [
    "### Train your model here.\n",
    "### Calculate and report the accuracy on the training and validation set.\n",
    "### Once a final model architecture is selected, \n",
    "### the accuracy on the test set should be calculated and reported as well.\n",
    "### Feel free to use as many code cells as needed.\n",
    "\n",
    "with tf.Session() as sess:\n",
    "    sess.run(tf.global_variables_initializer())\n",
    "    num_examples = len(X_train)\n",
    "    saver.restore(sess, tf.train.latest_checkpoint('.'))\n",
    "    print(\"Training...\")\n",
    "    print()\n",
    "    for i in range(EPOCHS):       \n",
    "        print(i)\n",
    "\n",
    "        X_train, y_train = shuffle(X_train, y_train)\n",
    "        for offset in range(0, num_examples, BATCH_SIZE):\n",
    "            end = offset + BATCH_SIZE\n",
    "            batch_x, batch_y = X_train[offset:end], y_train[offset:end]\n",
    "            sess.run(training_operation, feed_dict={x: batch_x, y: batch_y,keep_prob: 0.6})\n",
    "\n",
    "        train_accuracy = evaluate(X_train, y_train)\n",
    "        validation_accuracy = evaluate(X_valid, y_valid)\n",
    "        print(\"EPOCH {} ...\".format(i+1))\n",
    "        print(\"Train Accuracy = {:.3f}\".format(train_accuracy))\n",
    "        print(\"Validation Accuracy = {:.3f}\".format(validation_accuracy))\n",
    "        print (sess.run(optimizer._lr_t))\n",
    "        print()      \n",
    "\n",
    "    saver.save(sess, './lenet')\n",
    "    print(\"Model saved\")"
   ]
  },
  {
   "cell_type": "code",
   "execution_count": 30,
   "metadata": {
    "collapsed": false
   },
   "outputs": [
    {
     "name": "stdout",
     "output_type": "stream",
     "text": [
      "Test Accuracy = 0.963\n"
     ]
    }
   ],
   "source": [
    "with tf.Session() as sess:\n",
    "    saver.restore(sess, tf.train.latest_checkpoint('.'))\n",
    "\n",
    "    test_accuracy = evaluate(X_test, y_test)\n",
    "    print(\"Test Accuracy = {:.3f}\".format(test_accuracy))"
   ]
  },
  {
   "cell_type": "markdown",
   "metadata": {},
   "source": [
    "---\n",
    "\n",
    "## Step 3: Test a Model on New Images\n",
    "\n",
    "To give yourself more insight into how your model is working, download at least five pictures of German traffic signs from the web and use your model to predict the traffic sign type.\n",
    "\n",
    "You may find `signnames.csv` useful as it contains mappings from the class id (integer) to the actual sign name."
   ]
  },
  {
   "cell_type": "markdown",
   "metadata": {},
   "source": [
    "### Load and Output the Images"
   ]
  },
  {
   "cell_type": "code",
   "execution_count": 48,
   "metadata": {
    "collapsed": false
   },
   "outputs": [
    {
     "data": {
      "image/png": "[encoded data removed]",
      "text/plain": [
       "<matplotlib.figure.Figure at 0x7f1e3137cf28>"
      ]
     },
     "metadata": {},
     "output_type": "display_data"
    },
    {
     "name": "stdout",
     "output_type": "stream",
     "text": [
      "(8, 32, 32, 3)\n"
     ]
    }
   ],
   "source": [
    "### Load the images and plot them here.\n",
    "### Feel free to use as many code cells as needed.\n",
    "\n",
    "import matplotlib.pyplot as plt\n",
    "import matplotlib.image as mpimg\n",
    "import numpy as np\n",
    "import cv2\n",
    "\n",
    "import os\n",
    "new_images = os.listdir(\"traffic-signs-data/\")\n",
    "\n",
    "plt.figure(figsize=(50,50))\n",
    "i=0\n",
    "images = []\n",
    "for file in new_images:\n",
    "    if file.endswith(\".png\"):\n",
    "        image = mpimg.imread(\"traffic-signs-data/\" + file)*255\n",
    "        image = cv2.convertScaleAbs(image)\n",
    "        #print (image)\n",
    "        image = image[:,:,0:3]\n",
    "        images.append(image)\n",
    "        i=i+1\n",
    "        # Read image\n",
    "        plt.subplot(1,8,i)\n",
    "        plt.imshow(image)\n",
    "        plt.axis('off')\n",
    "\n",
    "plt.show()\n",
    "\n",
    "images = np.array(images)\n",
    "\n",
    "print(images.shape)"
   ]
  },
  {
   "cell_type": "code",
   "execution_count": 49,
   "metadata": {
    "collapsed": false
   },
   "outputs": [],
   "source": [
    "for i in range(images.shape[0]):\n",
    "    images[i,:,:,:] = cv2.cvtColor(images[i,:,:,:],cv2.COLOR_RGB2YUV)\n",
    "    images[i,:,:,0] = cv2.equalizeHist(images[i,:,:,0])"
   ]
  },
  {
   "cell_type": "code",
   "execution_count": 50,
   "metadata": {
    "collapsed": true
   },
   "outputs": [],
   "source": [
    "# Normalize\n",
    "images = (images-127.5)/127.5"
   ]
  },
  {
   "cell_type": "code",
   "execution_count": null,
   "metadata": {
    "collapsed": true
   },
   "outputs": [],
   "source": []
  },
  {
   "cell_type": "markdown",
   "metadata": {},
   "source": [
    "### Predict the Sign Type for Each Image"
   ]
  },
  {
   "cell_type": "code",
   "execution_count": 52,
   "metadata": {
    "collapsed": false
   },
   "outputs": [
    {
     "name": "stdout",
     "output_type": "stream",
     "text": [
      "[[ -1.52511513  -1.23894703  -3.11261439  -2.46897364  -2.92590237\n",
      "   -0.90525419  -4.3497324   -5.02481365  -2.06720495  -5.51253653\n",
      "   -2.90254068  -4.60084867  -1.76890993  -2.80282116  -4.25234699\n",
      "   -2.20002651  -4.02849627  -4.36838388  -1.23365426  -3.25223875\n",
      "    1.06322908  -2.37897372  -3.29343247  -1.67469573  -1.45711243\n",
      "    1.32748437  -1.29639506  -2.20294976  -2.48110342  -0.69680071\n",
      "   -0.43802229   0.9870078   -5.19915676  -2.54623103  -1.13708639\n",
      "   -1.07544637  -0.49551365  -1.6231041   -0.76619065  -2.30230451\n",
      "   -1.44223046  -6.50772667  -4.98353481]\n",
      " [ -4.2456336   -7.59292221  -3.51443386  -1.1670208  -13.36123276\n",
      "   -6.89616013 -17.38593292 -14.90914059 -10.58854771  -6.64800119\n",
      "   -2.44313097 -13.02163792 -13.42656422  -3.39972162  -2.16678905\n",
      "   -2.56890464 -11.69777203   0.26100403  -3.79228854   0.38902819\n",
      "   -1.99394631  -5.60640287   9.50891304   2.67018199  -9.9751606\n",
      "    1.03210843  -0.20086229 -14.07390976  -7.85956907   0.96419722\n",
      "   -3.05207705   0.02922357 -13.30897236 -10.77041626  -3.93648005\n",
      "  -13.20285988  -6.27300787  -7.1437645   -0.89849901  -8.95212173\n",
      "   -9.13040829 -18.01841545 -14.41590595]\n",
      " [ -0.05316038  -6.95003223  -9.77165413  -1.96845055 -17.0575676\n",
      "   -5.18341875 -13.05735588  -6.83888531  -5.91785383  -2.67196488\n",
      "  -17.04886627  -6.30759716 -15.38765526  -4.21874475 -14.23441887\n",
      "   -2.13797736  -6.91559219 -14.99182796  -9.50297546  -7.19683027\n",
      "    1.14992785 -11.76387024  -5.42478275  -0.4561179   -1.09057403\n",
      "   -8.59804058  -9.24765301  -2.8147738   18.95010185   5.56478357\n",
      "    0.06467268 -12.93835735  -7.6780715  -14.50933552 -14.55780506\n",
      "   -3.88366175  -0.44445768 -13.89831638 -13.12111568 -16.823946\n",
      "   -7.88987541  -3.19015622  -9.10829449]\n",
      " [-12.08874416  -2.83385253  -8.05804062  -7.17955065 -16.91612625\n",
      "   -2.01232338  -3.11578751  -5.67966843 -14.1270504  -12.56982422\n",
      "  -14.79929733  18.84259987   1.72000384 -13.41126251 -11.36394215\n",
      "  -13.36771679  -5.51457214 -11.07388306  -4.24164152  -4.53480673\n",
      "   -1.56917214   5.99381876 -13.67294216  -1.11382306  -2.96637225\n",
      "   -1.18856287  -4.18446732   5.19823837   1.28992188  -9.46994781\n",
      "   10.14978027  -8.09896564  -9.7200489   -9.88512993 -12.71546459\n",
      "  -12.29533005 -13.74180889 -14.29756737 -12.59145546 -16.08092308\n",
      "   -3.72628546  -8.35108948  -0.24779838]\n",
      " [ -3.13874888   2.2334342   -2.38742495  -1.54454052  -5.53958845\n",
      "    0.76930511   0.30868557  -2.0607686   -4.90967989  -9.32070351\n",
      "   -2.06165481  -1.79555166   9.96936989  -0.76013017  -4.89729691\n",
      "   -4.48795938  -9.37814808  -5.97965431  -5.38361931  -7.63403463\n",
      "   -2.4423852   -1.57889974  -7.70522976  -5.0284791   -6.26594925\n",
      "   -1.05056918  -0.49694359  -6.53209162  -5.33791828  -1.77272975\n",
      "   -2.71752453  -2.22483945  -5.06058502  -6.25590563  -4.98844814\n",
      "   -4.12426233  -7.12941551  -6.02308893  -5.85604525  -7.51705599\n",
      "   -3.91896772  -8.00447369   3.00183392]\n",
      " [ -5.7469573   -4.72123003  -8.96954155 -10.3316946   -7.20436192\n",
      "   -7.13205671  -9.37228966  -9.56562042  -9.62072086  -9.22060394\n",
      "  -14.78174686   3.04085684 -10.49404335 -14.06858349 -12.37287521\n",
      "   -5.86628723  -4.01255226  -7.79908323   6.09052038   1.27835417\n",
      "    1.25697446  -3.03488159  -5.93480301  -1.80721772   3.42967463\n",
      "   -3.80462766   0.45224366  13.15374851   2.99552202  -9.22780228\n",
      "   -1.34238076  -6.74386358  -4.76544333 -12.16106129 -11.73805714\n",
      "  -12.13658333  -5.30953646  -9.37561989  -9.44084835 -10.39739609\n",
      "   -5.77896643  -5.69948244 -10.79422188]\n",
      " [ -3.21865296  -4.98721504  -7.61219501  -5.91964674  -7.66850901\n",
      "   -5.2643671   -7.84410572  -9.50314426  -4.88812113  -9.23404312\n",
      "   -6.32231426  -4.52077579  -3.84865427  -3.83117962 -11.29571724\n",
      "   -2.60480571  -6.54052305  -5.49719524   1.88777304  -7.79770851\n",
      "   -0.91261977  -6.99337769  -2.88632274  -4.85605907  -5.35046721\n",
      "   -6.77886248   3.13498163  -3.64201045  -3.524194    -6.66775131\n",
      "   -0.90822864  -2.12874746  -5.62892485  -3.75190759   1.22649455\n",
      "   -2.71814823  -0.70337468   5.85370922  -0.30697191   5.0413394\n",
      "    4.04019403  -5.27542686  -5.26603174]\n",
      " [ -4.92075539  -7.28164196  -7.91534281  -3.16901135 -12.70080853\n",
      "   -3.4124999  -10.65479946 -12.80551243  -1.40219665 -13.00784683\n",
      "  -11.59182358  -7.09564877 -10.88127136  -6.6773324  -15.8190403\n",
      "   -4.43738031  -7.00034857 -10.27267361  -1.05484021 -14.04812622\n",
      "   -0.40863079 -12.79209805 -10.32050037  -8.00374222 -14.09478188\n",
      "  -12.78113461  -2.65461636  -8.69044685  -5.80897951 -12.65021515\n",
      "   -1.70719504  -5.87271547  -8.16406822  -3.73897958  11.28349304\n",
      "   -0.44085327   7.69666862   2.86872768   9.7556448    1.46948254\n",
      "    6.16207981  -7.9056654  -12.23495579]]\n"
     ]
    }
   ],
   "source": [
    "### Run the predictions here and use the model to output the prediction for each image.\n",
    "### Make sure to pre-process the images with the same pre-processing pipeline used earlier.\n",
    "### Feel free to use as many code cells as needed.\n",
    "\n",
    "with tf.Session() as sess:\n",
    "    saver.restore(sess, tf.train.latest_checkpoint('.'))\n",
    "    new_pics_classes = sess.run(logits, feed_dict={x: images, keep_prob : 1.0})\n",
    "    \n",
    "    \n",
    "    \n",
    "    \n",
    "def evaluate(X_data, y_data):\n",
    "    num_examples = len(X_data)\n",
    "    total_accuracy = 0\n",
    "    sess = tf.get_default_session()\n",
    "    for offset in range(0, num_examples, BATCH_SIZE):\n",
    "        batch_x, batch_y = X_data[offset:offset+BATCH_SIZE], y_data[offset:offset+BATCH_SIZE]\n",
    "        accuracy = sess.run(accuracy_operation, feed_dict={x: batch_x, y: batch_y,keep_prob: 1})\n",
    "        total_accuracy += (accuracy * len(batch_x))\n",
    "    return total_accuracy / num_examples\n",
    "    \n",
    "print(new_pics_classes)    \n"
   ]
  },
  {
   "cell_type": "markdown",
   "metadata": {},
   "source": [
    "### Analyze Performance"
   ]
  },
  {
   "cell_type": "code",
   "execution_count": null,
   "metadata": {
    "collapsed": true
   },
   "outputs": [],
   "source": [
    "### Calculate the accuracy for these 5 new images. \n",
    "### For example, if the model predicted 1 out of 5 signs correctly, it's 20% accurate on these new images."
   ]
  },
  {
   "cell_type": "markdown",
   "metadata": {},
   "source": [
    "### Output Top 5 Softmax Probabilities For Each Image Found on the Web"
   ]
  },
  {
   "cell_type": "markdown",
   "metadata": {},
   "source": [
    "For each of the new images, print out the model's softmax probabilities to show the **certainty** of the model's predictions (limit the output to the top 5 probabilities for each image). [`tf.nn.top_k`](https://www.tensorflow.org/versions/r0.12/api_docs/python/nn.html#top_k) could prove helpful here. \n",
    "\n",
    "The example below demonstrates how tf.nn.top_k can be used to find the top k predictions for each image.\n",
    "\n",
    "`tf.nn.top_k` will return the values and indices (class ids) of the top k predictions. So if k=3, for each sign, it'll return the 3 largest probabilities (out of a possible 43) and the correspoding class ids.\n",
    "\n",
    "Take this numpy array as an example. The values in the array represent predictions. The array contains softmax probabilities for five candidate images with six possible classes. `tk.nn.top_k` is used to choose the three classes with the highest probability:\n",
    "\n",
    "```\n",
    "# (5, 6) array\n",
    "a = np.array([[ 0.24879643,  0.07032244,  0.12641572,  0.34763842,  0.07893497,\n",
    "         0.12789202],\n",
    "       [ 0.28086119,  0.27569815,  0.08594638,  0.0178669 ,  0.18063401,\n",
    "         0.15899337],\n",
    "       [ 0.26076848,  0.23664738,  0.08020603,  0.07001922,  0.1134371 ,\n",
    "         0.23892179],\n",
    "       [ 0.11943333,  0.29198961,  0.02605103,  0.26234032,  0.1351348 ,\n",
    "         0.16505091],\n",
    "       [ 0.09561176,  0.34396535,  0.0643941 ,  0.16240774,  0.24206137,\n",
    "         0.09155967]])\n",
    "```\n",
    "\n",
    "Running it through `sess.run(tf.nn.top_k(tf.constant(a), k=3))` produces:\n",
    "\n",
    "```\n",
    "TopKV2(values=array([[ 0.34763842,  0.24879643,  0.12789202],\n",
    "       [ 0.28086119,  0.27569815,  0.18063401],\n",
    "       [ 0.26076848,  0.23892179,  0.23664738],\n",
    "       [ 0.29198961,  0.26234032,  0.16505091],\n",
    "       [ 0.34396535,  0.24206137,  0.16240774]]), indices=array([[3, 0, 5],\n",
    "       [0, 1, 4],\n",
    "       [0, 5, 1],\n",
    "       [1, 3, 5],\n",
    "       [1, 4, 3]], dtype=int32))\n",
    "```\n",
    "\n",
    "Looking just at the first row we get `[ 0.34763842,  0.24879643,  0.12789202]`, you can confirm these are the 3 largest probabilities in `a`. You'll also notice `[3, 0, 5]` are the corresponding indices."
   ]
  },
  {
   "cell_type": "code",
   "execution_count": null,
   "metadata": {
    "collapsed": true
   },
   "outputs": [],
   "source": [
    "### Print out the top five softmax probabilities for the predictions on the German traffic sign images found on the web. \n",
    "### Feel free to use as many code cells as needed."
   ]
  },
  {
   "cell_type": "markdown",
   "metadata": {},
   "source": [
    "> **Note**: Once you have completed all of the code implementations, you need to finalize your work by exporting the IPython Notebook as an HTML document. Before exporting the notebook to html, all of the code cells need to have been run. You can then export the notebook by using the menu above and navigating to  \\n\",\n",
    "    \"**File -> Download as -> HTML (.html)**. Include the finished document along with this notebook as your submission. "
   ]
  },
  {
   "cell_type": "markdown",
   "metadata": {},
   "source": [
    "### Project Writeup\n",
    "\n",
    "Once you have completed the code implementation, document your results in a project writeup using this [template](https://github.com/udacity/CarND-Traffic-Sign-Classifier-Project/blob/master/writeup_template.md) as a guide. The writeup can be in a markdown or pdf file. "
   ]
  }
 ],
 "metadata": {
  "anaconda-cloud": {},
  "kernelspec": {
   "display_name": "Python 3",
   "language": "python",
   "name": "python3"
  },
  "language_info": {
   "codemirror_mode": {
    "name": "ipython",
    "version": 3
   },
   "file_extension": ".py",
   "mimetype": "text/x-python",
   "name": "python",
   "nbconvert_exporter": "python",
   "pygments_lexer": "ipython3",
   "version": "3.5.2"
  },
  "widgets": {
   "state": {},
   "version": "1.1.2"
  }
 },
 "nbformat": 4,
 "nbformat_minor": 1
}
